{
 "cells": [
  {
   "cell_type": "markdown",
   "id": "8e2dc6bc-40df-4efa-b95c-b8a273c8906f",
   "metadata": {},
   "source": [
    "**Pandas serisi oluşturma**"
   ]
  },
  {
   "cell_type": "code",
   "execution_count": 1,
   "id": "de6c5d15-d882-43ab-a013-92cedab1613b",
   "metadata": {},
   "outputs": [],
   "source": [
    "import pandas as pd"
   ]
  },
  {
   "cell_type": "code",
   "execution_count": 4,
   "id": "a670fdad-9db0-46e2-a16b-c341da6b13fe",
   "metadata": {},
   "outputs": [
    {
     "data": {
      "text/plain": [
       "0    21\n",
       "1     3\n",
       "2    12\n",
       "3    43\n",
       "4     4\n",
       "dtype: int64"
      ]
     },
     "execution_count": 4,
     "metadata": {},
     "output_type": "execute_result"
    }
   ],
   "source": [
    "seri = pd.Series([21,3,12,43,4])\n",
    "seri"
   ]
  },
  {
   "cell_type": "code",
   "execution_count": 5,
   "id": "b5ee46e4-a3f6-4f7a-9723-0160f830092a",
   "metadata": {},
   "outputs": [
    {
     "data": {
      "text/plain": [
       "pandas.core.series.Series"
      ]
     },
     "execution_count": 5,
     "metadata": {},
     "output_type": "execute_result"
    }
   ],
   "source": [
    "type(seri)"
   ]
  },
  {
   "cell_type": "code",
   "execution_count": 7,
   "id": "86b9e6fa-bb33-4974-a385-498dc8434fb2",
   "metadata": {},
   "outputs": [
    {
     "data": {
      "text/plain": [
       "[RangeIndex(start=0, stop=5, step=1)]"
      ]
     },
     "execution_count": 7,
     "metadata": {},
     "output_type": "execute_result"
    }
   ],
   "source": [
    "seri.axes #İndexin nereden başlayıp nereye gittiğini gösterir"
   ]
  },
  {
   "cell_type": "code",
   "execution_count": 8,
   "id": "68162870-0b0f-4cbd-b4f6-485cadd89f03",
   "metadata": {},
   "outputs": [
    {
     "data": {
      "text/plain": [
       "dtype('int64')"
      ]
     },
     "execution_count": 8,
     "metadata": {},
     "output_type": "execute_result"
    }
   ],
   "source": [
    "seri.dtype"
   ]
  },
  {
   "cell_type": "code",
   "execution_count": 9,
   "id": "41d0376c-2eff-430e-8f53-c59fac8449c8",
   "metadata": {},
   "outputs": [
    {
     "data": {
      "text/plain": [
       "1"
      ]
     },
     "execution_count": 9,
     "metadata": {},
     "output_type": "execute_result"
    }
   ],
   "source": [
    "seri.ndim #Pandas serileri 1 boyutludur."
   ]
  },
  {
   "cell_type": "code",
   "execution_count": 10,
   "id": "601c4f54-5d92-4df0-b78a-359514d7395b",
   "metadata": {},
   "outputs": [
    {
     "data": {
      "text/plain": [
       "5"
      ]
     },
     "execution_count": 10,
     "metadata": {},
     "output_type": "execute_result"
    }
   ],
   "source": [
    "seri.size"
   ]
  },
  {
   "cell_type": "code",
   "execution_count": 11,
   "id": "b04f1602-d42d-450a-9e33-a0936dbc38ce",
   "metadata": {},
   "outputs": [
    {
     "data": {
      "text/plain": [
       "array([21,  3, 12, 43,  4])"
      ]
     },
     "execution_count": 11,
     "metadata": {},
     "output_type": "execute_result"
    }
   ],
   "source": [
    "seri.values"
   ]
  },
  {
   "cell_type": "code",
   "execution_count": null,
   "id": "ce9aae2d-041c-4740-b221-b08c81cbe28e",
   "metadata": {},
   "outputs": [],
   "source": [
    "seri.head(3) #İlk 3 elemanı getirir"
   ]
  },
  {
   "cell_type": "code",
   "execution_count": null,
   "id": "23a6cd26-4066-41d4-abd7-166860007fdc",
   "metadata": {},
   "outputs": [],
   "source": [
    "seri.tail(3) #Son 3 elemanı getirir"
   ]
  },
  {
   "cell_type": "code",
   "execution_count": null,
   "id": "f0659934-1a90-4b14-901b-ad3b503ed02f",
   "metadata": {},
   "outputs": [],
   "source": [
    "#İndex isimlendirmesi"
   ]
  },
  {
   "cell_type": "code",
   "execution_count": 13,
   "id": "3b58b414-ca43-4b4c-af75-4747a92cfee9",
   "metadata": {},
   "outputs": [
    {
     "data": {
      "text/plain": [
       "1    12\n",
       "3    34\n",
       "5    23\n",
       "7    45\n",
       "dtype: int64"
      ]
     },
     "execution_count": 13,
     "metadata": {},
     "output_type": "execute_result"
    }
   ],
   "source": [
    "pd.Series([12,34,23,45], index=[1,3,5,7]) #Kendimiz indexlendirme yapabiliriz."
   ]
  },
  {
   "cell_type": "code",
   "execution_count": 15,
   "id": "de75e0a7-f31c-4f03-97f4-260c4270e0e6",
   "metadata": {},
   "outputs": [],
   "source": [
    "seri2=pd.Series([12,34,23,45], index=[\"a\",\"b\",\"c\",\"d\"]) #String index de verebiliriz illa int olacak diye bir şey yok."
   ]
  },
  {
   "cell_type": "code",
   "execution_count": 16,
   "id": "d9c97b27-7f09-43e6-8c9c-2e16a91d8e8d",
   "metadata": {},
   "outputs": [
    {
     "data": {
      "text/plain": [
       "np.int64(12)"
      ]
     },
     "execution_count": 16,
     "metadata": {},
     "output_type": "execute_result"
    }
   ],
   "source": [
    "seri2[\"a\"] #Dictionary yapısına benzedi"
   ]
  },
  {
   "cell_type": "code",
   "execution_count": 17,
   "id": "3c272ca8-06d2-4c9a-82b8-bbe7cd395bee",
   "metadata": {},
   "outputs": [
    {
     "data": {
      "text/plain": [
       "a    12\n",
       "b    34\n",
       "c    23\n",
       "dtype: int64"
      ]
     },
     "execution_count": 17,
     "metadata": {},
     "output_type": "execute_result"
    }
   ],
   "source": [
    "seri2[\"a\":\"c\"] #Slice "
   ]
  },
  {
   "cell_type": "code",
   "execution_count": null,
   "id": "73a9de04-cc86-4a1a-9dc6-f3c397d55f4d",
   "metadata": {},
   "outputs": [],
   "source": [
    "#Dictionary üzerinden liste oluşturmak"
   ]
  },
  {
   "cell_type": "code",
   "execution_count": 18,
   "id": "73a79631-7f5f-494a-ba0b-d900812be8d0",
   "metadata": {},
   "outputs": [],
   "source": [
    "sozluk ={\"arda\":12,\"onur\":24,\"araba\":13}"
   ]
  },
  {
   "cell_type": "code",
   "execution_count": 19,
   "id": "09086c2d-4425-414c-9ecf-25ddb323a017",
   "metadata": {},
   "outputs": [
    {
     "data": {
      "text/plain": [
       "arda     12\n",
       "onur     24\n",
       "araba    13\n",
       "dtype: int64"
      ]
     },
     "execution_count": 19,
     "metadata": {},
     "output_type": "execute_result"
    }
   ],
   "source": [
    "seri3=pd.Series(sozluk)\n",
    "seri3"
   ]
  },
  {
   "cell_type": "code",
   "execution_count": null,
   "id": "2026db1d-df55-425e-a90f-730c2d50c8f9",
   "metadata": {},
   "outputs": [],
   "source": [
    "#iki seriyi birleştirerek bir seri oluşturma"
   ]
  },
  {
   "cell_type": "code",
   "execution_count": 23,
   "id": "059d65fb-e95a-443c-927b-1ce501e2b2e8",
   "metadata": {},
   "outputs": [
    {
     "data": {
      "text/plain": [
       "arda     12\n",
       "onur     24\n",
       "araba    13\n",
       "arda     12\n",
       "onur     24\n",
       "araba    13\n",
       "a        12\n",
       "b        34\n",
       "c        23\n",
       "d        45\n",
       "dtype: int64"
      ]
     },
     "execution_count": 23,
     "metadata": {},
     "output_type": "execute_result"
    }
   ],
   "source": [
    "bseri=pd.concat([seri3,seri3,seri2])\n",
    "bseri"
   ]
  },
  {
   "cell_type": "code",
   "execution_count": null,
   "id": "1490d91f-ae4f-43be-9a3b-dd9ca29ec115",
   "metadata": {},
   "outputs": [],
   "source": []
  },
  {
   "cell_type": "code",
   "execution_count": null,
   "id": "1dac77d4-a4d9-4330-9a31-c7dec8ebab52",
   "metadata": {},
   "outputs": [],
   "source": []
  }
 ],
 "metadata": {
  "kernelspec": {
   "display_name": "Python 3 (ipykernel)",
   "language": "python",
   "name": "python3"
  },
  "language_info": {
   "codemirror_mode": {
    "name": "ipython",
    "version": 3
   },
   "file_extension": ".py",
   "mimetype": "text/x-python",
   "name": "python",
   "nbconvert_exporter": "python",
   "pygments_lexer": "ipython3",
   "version": "3.12.3"
  }
 },
 "nbformat": 4,
 "nbformat_minor": 5
}
