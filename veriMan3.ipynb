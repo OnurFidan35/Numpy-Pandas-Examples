{
 "cells": [
  {
   "cell_type": "code",
   "execution_count": 3,
   "id": "cd030465-e22b-4df9-ab89-153a2ba60af5",
   "metadata": {},
   "outputs": [],
   "source": [
    "import numpy as np"
   ]
  },
  {
   "cell_type": "code",
   "execution_count": 6,
   "id": "6433e4a8-64b7-454b-80aa-0ed8d7489e52",
   "metadata": {},
   "outputs": [
    {
     "data": {
      "text/plain": [
       "array([[4, 7, 1],\n",
       "       [7, 9, 5],\n",
       "       [8, 2, 0]], dtype=int32)"
      ]
     },
     "execution_count": 6,
     "metadata": {},
     "output_type": "execute_result"
    }
   ],
   "source": [
    "m=np.random.randint(0,10,(3,3))\n",
    "m"
   ]
  },
  {
   "cell_type": "code",
   "execution_count": 9,
   "id": "52ed1cf9-b7b5-4b38-8a53-b46cf11e1602",
   "metadata": {},
   "outputs": [
    {
     "data": {
      "text/plain": [
       "np.int32(5)"
      ]
     },
     "execution_count": 9,
     "metadata": {},
     "output_type": "execute_result"
    }
   ],
   "source": [
    "m[1,2]"
   ]
  },
  {
   "cell_type": "code",
   "execution_count": 10,
   "id": "c8769ef0-49d3-45c4-9c87-116fee2adcf8",
   "metadata": {},
   "outputs": [
    {
     "data": {
      "text/plain": [
       "array([[4, 7, 1],\n",
       "       [7, 9, 2],\n",
       "       [8, 2, 0]], dtype=int32)"
      ]
     },
     "execution_count": 10,
     "metadata": {},
     "output_type": "execute_result"
    }
   ],
   "source": [
    "m[1,2]=2.2 #Ondalık kısmını attı\n",
    "m"
   ]
  },
  {
   "cell_type": "code",
   "execution_count": 11,
   "id": "05c802de-fbec-478d-a989-41269eef0109",
   "metadata": {},
   "outputs": [
    {
     "data": {
      "text/plain": [
       "array([[4, 7, 1],\n",
       "       [7, 9, 2],\n",
       "       [8, 2, 0]], dtype=int32)"
      ]
     },
     "execution_count": 11,
     "metadata": {},
     "output_type": "execute_result"
    }
   ],
   "source": [
    "m"
   ]
  },
  {
   "cell_type": "code",
   "execution_count": null,
   "id": "d5a3547b-c005-430d-bd82-cbf77ae2330d",
   "metadata": {},
   "outputs": [],
   "source": [
    "#İki boyutlu SLİCE işlemleri"
   ]
  },
  {
   "cell_type": "code",
   "execution_count": 12,
   "id": "c6bc9630-82bb-4f37-80bf-17a23f48105b",
   "metadata": {},
   "outputs": [
    {
     "data": {
      "text/plain": [
       "array([[7, 1],\n",
       "       [9, 2],\n",
       "       [2, 0]], dtype=int32)"
      ]
     },
     "execution_count": 12,
     "metadata": {},
     "output_type": "execute_result"
    }
   ],
   "source": [
    "m[:,1:]"
   ]
  },
  {
   "cell_type": "code",
   "execution_count": 16,
   "id": "e8d60ea2-f79d-44f7-b035-43c85251a269",
   "metadata": {},
   "outputs": [
    {
     "data": {
      "text/plain": [
       "array([7, 8], dtype=int32)"
      ]
     },
     "execution_count": 16,
     "metadata": {},
     "output_type": "execute_result"
    }
   ],
   "source": [
    "m[1:,0]"
   ]
  },
  {
   "cell_type": "code",
   "execution_count": 17,
   "id": "8c17d494-e49a-490d-8d05-ce115fec676d",
   "metadata": {},
   "outputs": [
    {
     "data": {
      "text/plain": [
       "array([[1],\n",
       "       [2],\n",
       "       [0]], dtype=int32)"
      ]
     },
     "execution_count": 17,
     "metadata": {},
     "output_type": "execute_result"
    }
   ],
   "source": [
    "m[:,2:]"
   ]
  },
  {
   "cell_type": "code",
   "execution_count": 18,
   "id": "1c4eb192-2f9d-4c85-b7ae-c81cfbf6c562",
   "metadata": {},
   "outputs": [
    {
     "data": {
      "text/plain": [
       "array([9, 2], dtype=int32)"
      ]
     },
     "execution_count": 18,
     "metadata": {},
     "output_type": "execute_result"
    }
   ],
   "source": [
    "m[1,1:]"
   ]
  },
  {
   "cell_type": "code",
   "execution_count": 20,
   "id": "9e202ef7-6f52-4379-817b-53b4a2c4801e",
   "metadata": {},
   "outputs": [
    {
     "data": {
      "text/plain": [
       "array([[5, 8, 9, 8, 1],\n",
       "       [2, 6, 6, 3, 8],\n",
       "       [5, 3, 6, 3, 5],\n",
       "       [6, 9, 5, 6, 4],\n",
       "       [4, 6, 0, 8, 1]], dtype=int32)"
      ]
     },
     "execution_count": 20,
     "metadata": {},
     "output_type": "execute_result"
    }
   ],
   "source": [
    "a=np.random.randint(0,10,(5,5))\n",
    "a"
   ]
  },
  {
   "cell_type": "code",
   "execution_count": 22,
   "id": "d7eb9aa6-dffe-4eff-bcff-253099fc6e0b",
   "metadata": {},
   "outputs": [
    {
     "data": {
      "text/plain": [
       "array([[8, 9],\n",
       "       [6, 6],\n",
       "       [3, 6],\n",
       "       [9, 5],\n",
       "       [6, 0]], dtype=int32)"
      ]
     },
     "execution_count": 22,
     "metadata": {},
     "output_type": "execute_result"
    }
   ],
   "source": [
    "aAltkume=a[:,1:3].copy()\n",
    "aAltkume"
   ]
  },
  {
   "cell_type": "code",
   "execution_count": 23,
   "id": "45d86ef9-855a-4030-b147-162bed18eceb",
   "metadata": {},
   "outputs": [
    {
     "data": {
      "text/plain": [
       "array([[8, 7],\n",
       "       [6, 6],\n",
       "       [3, 6],\n",
       "       [9, 5],\n",
       "       [6, 0]], dtype=int32)"
      ]
     },
     "execution_count": 23,
     "metadata": {},
     "output_type": "execute_result"
    }
   ],
   "source": [
    "aAltkume[0,1]=7\n",
    "aAltkume"
   ]
  },
  {
   "cell_type": "code",
   "execution_count": 24,
   "id": "4e40836c-d625-42ae-99b1-a84da578c7eb",
   "metadata": {},
   "outputs": [
    {
     "data": {
      "text/plain": [
       "array([[5, 8, 9, 8, 1],\n",
       "       [2, 6, 6, 3, 8],\n",
       "       [5, 3, 6, 3, 5],\n",
       "       [6, 9, 5, 6, 4],\n",
       "       [4, 6, 0, 8, 1]], dtype=int32)"
      ]
     },
     "execution_count": 24,
     "metadata": {},
     "output_type": "execute_result"
    }
   ],
   "source": [
    "a #copy yaptıgımız için ana kumede değişiklik olmadı copy kullanmasaydık ana arrayde değişiklik gerçekleşecekti"
   ]
  },
  {
   "cell_type": "markdown",
   "id": "a30b4703-833b-44bb-b245-9d29abaf0003",
   "metadata": {},
   "source": [
    "**FANCY İNDEX İLE ELEMANLARA ERİŞMEK**"
   ]
  },
  {
   "cell_type": "code",
   "execution_count": 30,
   "id": "07fb1de7-05c0-424b-a4c9-dfc97d4bf8f7",
   "metadata": {},
   "outputs": [
    {
     "data": {
      "text/plain": [
       "array([ 0,  3,  6,  9, 12, 15, 18, 21, 24, 27])"
      ]
     },
     "execution_count": 30,
     "metadata": {},
     "output_type": "execute_result"
    }
   ],
   "source": [
    "array=np.arange(0,30,3)\n",
    "array"
   ]
  },
  {
   "cell_type": "code",
   "execution_count": 66,
   "id": "398c5ea5-9705-46b2-b5fc-326b6cddbce9",
   "metadata": {},
   "outputs": [
    {
     "data": {
      "text/plain": [
       "array([ 3,  9, 15])"
      ]
     },
     "execution_count": 66,
     "metadata": {},
     "output_type": "execute_result"
    }
   ],
   "source": [
    "al_getir=[1,3,5] #TEK BOYUTTA FANCY\n",
    "array[al_getir]"
   ]
  },
  {
   "cell_type": "code",
   "execution_count": 8,
   "id": "85cdd4cc-d190-4f0b-873b-7d88e231d2be",
   "metadata": {},
   "outputs": [
    {
     "data": {
      "text/plain": [
       "array([[0, 1, 2],\n",
       "       [3, 4, 5],\n",
       "       [6, 7, 8]])"
      ]
     },
     "execution_count": 8,
     "metadata": {},
     "output_type": "execute_result"
    }
   ],
   "source": [
    "#İKİ BOYUTTA FANCY\n",
    "k=np.arange(0,9).reshape(3,3)\n",
    "k"
   ]
  },
  {
   "cell_type": "code",
   "execution_count": 20,
   "id": "28faa4cb-b676-4bc9-a231-76c7a29bb747",
   "metadata": {},
   "outputs": [
    {
     "data": {
      "text/plain": [
       "array([1, 1, 6])"
      ]
     },
     "execution_count": 20,
     "metadata": {},
     "output_type": "execute_result"
    }
   ],
   "source": [
    "satir=[0,0,2]\n",
    "sutun=[1,1,0]\n",
    "k[satir,sutun]"
   ]
  },
  {
   "cell_type": "code",
   "execution_count": 10,
   "id": "fe172d98-3ffd-40ee-a998-06055bed514b",
   "metadata": {},
   "outputs": [
    {
     "data": {
      "text/plain": [
       "array([1, 1])"
      ]
     },
     "execution_count": 10,
     "metadata": {},
     "output_type": "execute_result"
    }
   ],
   "source": [
    "k[[0,0],[1,1]]"
   ]
  },
  {
   "cell_type": "code",
   "execution_count": 37,
   "id": "78181528-d75d-4788-9434-511fdeb029ca",
   "metadata": {},
   "outputs": [],
   "source": [
    "#Basit index ile fancy index"
   ]
  },
  {
   "cell_type": "code",
   "execution_count": 11,
   "id": "29e357a8-7f98-4e48-a626-6936c60b1425",
   "metadata": {},
   "outputs": [
    {
     "data": {
      "text/plain": [
       "array([[0, 1, 2],\n",
       "       [3, 4, 5],\n",
       "       [6, 7, 8]])"
      ]
     },
     "execution_count": 11,
     "metadata": {},
     "output_type": "execute_result"
    }
   ],
   "source": [
    "k"
   ]
  },
  {
   "cell_type": "code",
   "execution_count": 23,
   "id": "b2d44538-be55-4236-b5f6-e92ab3e15bc5",
   "metadata": {},
   "outputs": [
    {
     "data": {
      "text/plain": [
       "array([4, 5])"
      ]
     },
     "execution_count": 23,
     "metadata": {},
     "output_type": "execute_result"
    }
   ],
   "source": [
    "k[1,[1,2]]   "
   ]
  },
  {
   "cell_type": "code",
   "execution_count": null,
   "id": "918bf7de-724a-4f16-ba8f-13c98dcf9693",
   "metadata": {},
   "outputs": [],
   "source": [
    "#Slice ile fancy index"
   ]
  },
  {
   "cell_type": "code",
   "execution_count": 40,
   "id": "dc005b38-4fca-43e8-995b-c2bb68b2fc66",
   "metadata": {},
   "outputs": [
    {
     "data": {
      "text/plain": [
       "array([[1, 2],\n",
       "       [4, 5],\n",
       "       [7, 8]])"
      ]
     },
     "execution_count": 40,
     "metadata": {},
     "output_type": "execute_result"
    }
   ],
   "source": [
    "k[0:,[1,2]]"
   ]
  },
  {
   "cell_type": "markdown",
   "id": "a3d4342e-1c61-4950-8460-2e2ee6e3356b",
   "metadata": {},
   "source": [
    "**Koşullu Eleman İşlemleri**"
   ]
  },
  {
   "cell_type": "code",
   "execution_count": 4,
   "id": "94a03cf3-6aad-4cb6-b8a9-782d5fd397a6",
   "metadata": {},
   "outputs": [],
   "source": [
    "v=np.array([1,2,3,4,5])"
   ]
  },
  {
   "cell_type": "code",
   "execution_count": 43,
   "id": "fac9916b-c8e8-4cc7-812f-d99336d63b70",
   "metadata": {},
   "outputs": [
    {
     "data": {
      "text/plain": [
       "array([False, False, False,  True,  True])"
      ]
     },
     "execution_count": 43,
     "metadata": {},
     "output_type": "execute_result"
    }
   ],
   "source": [
    "v>3"
   ]
  },
  {
   "cell_type": "code",
   "execution_count": 45,
   "id": "b4b8b0e6-cb0d-4e90-8807-2ef71d479082",
   "metadata": {},
   "outputs": [
    {
     "data": {
      "text/plain": [
       "array([3])"
      ]
     },
     "execution_count": 45,
     "metadata": {},
     "output_type": "execute_result"
    }
   ],
   "source": [
    "v[v>3]"
   ]
  },
  {
   "cell_type": "code",
   "execution_count": 46,
   "id": "28f7bdde-266a-47d4-adab-af7c5f18a6a3",
   "metadata": {},
   "outputs": [
    {
     "data": {
      "text/plain": [
       "array([1, 2, 4, 5])"
      ]
     },
     "execution_count": 46,
     "metadata": {},
     "output_type": "execute_result"
    }
   ],
   "source": [
    "v[v!=3]"
   ]
  },
  {
   "cell_type": "code",
   "execution_count": 47,
   "id": "73dae907-1f03-4d06-98b7-f8838563c748",
   "metadata": {},
   "outputs": [
    {
     "data": {
      "text/plain": [
       "array([3])"
      ]
     },
     "execution_count": 47,
     "metadata": {},
     "output_type": "execute_result"
    }
   ],
   "source": [
    "v[v==3]"
   ]
  },
  {
   "cell_type": "code",
   "execution_count": 48,
   "id": "9cbb551b-685d-4a58-b08b-0a007f069881",
   "metadata": {},
   "outputs": [
    {
     "data": {
      "text/plain": [
       "array([1, 2, 3, 4, 5])"
      ]
     },
     "execution_count": 48,
     "metadata": {},
     "output_type": "execute_result"
    }
   ],
   "source": [
    "v"
   ]
  },
  {
   "cell_type": "code",
   "execution_count": 49,
   "id": "b919002a-4c3a-4e8d-a027-718dbdc96a20",
   "metadata": {},
   "outputs": [
    {
     "data": {
      "text/plain": [
       "array([ 2,  4,  6,  8, 10])"
      ]
     },
     "execution_count": 49,
     "metadata": {},
     "output_type": "execute_result"
    }
   ],
   "source": [
    "v*2"
   ]
  },
  {
   "cell_type": "code",
   "execution_count": 50,
   "id": "abc46b9b-d580-4286-b9f6-9442946e1e35",
   "metadata": {},
   "outputs": [
    {
     "data": {
      "text/plain": [
       "array([ 1,  4,  9, 16, 25])"
      ]
     },
     "execution_count": 50,
     "metadata": {},
     "output_type": "execute_result"
    }
   ],
   "source": [
    "v**2"
   ]
  },
  {
   "cell_type": "code",
   "execution_count": 51,
   "id": "2f07fed2-2f76-48d5-9071-9bef9dea2798",
   "metadata": {},
   "outputs": [
    {
     "data": {
      "text/plain": [
       "array([-1,  0,  1,  2,  3])"
      ]
     },
     "execution_count": 51,
     "metadata": {},
     "output_type": "execute_result"
    }
   ],
   "source": [
    "v-2"
   ]
  },
  {
   "cell_type": "code",
   "execution_count": 52,
   "id": "9995785a-65eb-4241-ad54-4d9bc3dcca1c",
   "metadata": {},
   "outputs": [
    {
     "data": {
      "text/plain": [
       "array([0.2, 0.4, 0.6, 0.8, 1. ])"
      ]
     },
     "execution_count": 52,
     "metadata": {},
     "output_type": "execute_result"
    }
   ],
   "source": [
    "v/5"
   ]
  },
  {
   "cell_type": "markdown",
   "id": "d2d942bc-441b-4126-95ac-3f4b91173593",
   "metadata": {},
   "source": [
    "** Herhangi bir kütüphanenin/dilin derli toplu dökümantasyonuna ulaşmak istiyorsak cheat sheet yani kopya kağıdı diye sonuna ekleyerek aratırız \n",
    "numpy mathematics cheat sheet gibisinden aratabiliriz. veya numpy statistics cheat sheet vs. !!!!!!!!!!!!!!!!!!!!! **"
   ]
  },
  {
   "cell_type": "code",
   "execution_count": 5,
   "id": "0d2c01d3-b1a5-4477-93f5-6992b411bbb7",
   "metadata": {},
   "outputs": [
    {
     "data": {
      "text/plain": [
       "array([1, 2, 3, 4, 5])"
      ]
     },
     "execution_count": 5,
     "metadata": {},
     "output_type": "execute_result"
    }
   ],
   "source": [
    "v\n"
   ]
  },
  {
   "cell_type": "code",
   "execution_count": 6,
   "id": "2803d492-d64f-403b-8e72-f4bed06febd7",
   "metadata": {},
   "outputs": [
    {
     "data": {
      "text/plain": [
       "array([2, 3, 4, 5, 6])"
      ]
     },
     "execution_count": 6,
     "metadata": {},
     "output_type": "execute_result"
    }
   ],
   "source": [
    "np.add(v,1)"
   ]
  },
  {
   "cell_type": "code",
   "execution_count": 55,
   "id": "e1bade7c-2b53-4097-b645-968d3140aade",
   "metadata": {},
   "outputs": [
    {
     "data": {
      "text/plain": [
       "array([0, 1, 2, 3, 4])"
      ]
     },
     "execution_count": 55,
     "metadata": {},
     "output_type": "execute_result"
    }
   ],
   "source": [
    "np.subtract(v,1)"
   ]
  },
  {
   "cell_type": "code",
   "execution_count": 57,
   "id": "1f32e666-abee-403f-97e2-11ec4da8609f",
   "metadata": {},
   "outputs": [
    {
     "data": {
      "text/plain": [
       "array([0.5, 1. , 1.5, 2. , 2.5])"
      ]
     },
     "execution_count": 57,
     "metadata": {},
     "output_type": "execute_result"
    }
   ],
   "source": [
    "np.divide(v,2)"
   ]
  },
  {
   "cell_type": "code",
   "execution_count": 7,
   "id": "204d5882-b760-47d1-b071-69a5764a4766",
   "metadata": {},
   "outputs": [
    {
     "data": {
      "text/plain": [
       "array([ 2,  4,  6,  8, 10])"
      ]
     },
     "execution_count": 7,
     "metadata": {},
     "output_type": "execute_result"
    }
   ],
   "source": [
    "np.multiply(v,2)"
   ]
  },
  {
   "cell_type": "code",
   "execution_count": 59,
   "id": "9f526015-17f1-45aa-b5a8-564f1c43eaaf",
   "metadata": {},
   "outputs": [
    {
     "data": {
      "text/plain": [
       "np.float64(3.0)"
      ]
     },
     "execution_count": 59,
     "metadata": {},
     "output_type": "execute_result"
    }
   ],
   "source": [
    "np.mean(v) #3"
   ]
  },
  {
   "cell_type": "markdown",
   "id": "f2cd500d-cbd2-4835-a934-fc3ae0c503d5",
   "metadata": {},
   "source": [
    "** Numpy ile iki bilinmeyenli denklem çözümü **"
   ]
  },
  {
   "cell_type": "markdown",
   "id": "f7fba5f4-f020-47e5-9388-1ca0c8645513",
   "metadata": {},
   "source": [
    "5*x0 + x1 = 12\n",
    "x0 + 3*x1 = 10"
   ]
  },
  {
   "cell_type": "code",
   "execution_count": 61,
   "id": "ad073811-15af-4131-ba8a-eaed7a2b0f7d",
   "metadata": {},
   "outputs": [],
   "source": [
    "p=np.array([[5,1],[1,3]])"
   ]
  },
  {
   "cell_type": "code",
   "execution_count": 62,
   "id": "f55df970-8aeb-40d3-83bb-8d1946757550",
   "metadata": {},
   "outputs": [],
   "source": [
    "s=np.array([[12],[10]])"
   ]
  },
  {
   "cell_type": "code",
   "execution_count": 63,
   "id": "2a6460ee-dc75-4c37-b143-f6f576adc3b6",
   "metadata": {},
   "outputs": [
    {
     "data": {
      "text/plain": [
       "array([[1.85714286],\n",
       "       [2.71428571]])"
      ]
     },
     "execution_count": 63,
     "metadata": {},
     "output_type": "execute_result"
    }
   ],
   "source": [
    "np.linalg.solve(p,s)"
   ]
  },
  {
   "cell_type": "code",
   "execution_count": null,
   "id": "57d046b2-86cb-4c54-8424-d17196d371b4",
   "metadata": {},
   "outputs": [],
   "source": []
  }
 ],
 "metadata": {
  "kernelspec": {
   "display_name": "Python 3 (ipykernel)",
   "language": "python",
   "name": "python3"
  },
  "language_info": {
   "codemirror_mode": {
    "name": "ipython",
    "version": 3
   },
   "file_extension": ".py",
   "mimetype": "text/x-python",
   "name": "python",
   "nbconvert_exporter": "python",
   "pygments_lexer": "ipython3",
   "version": "3.12.3"
  }
 },
 "nbformat": 4,
 "nbformat_minor": 5
}
