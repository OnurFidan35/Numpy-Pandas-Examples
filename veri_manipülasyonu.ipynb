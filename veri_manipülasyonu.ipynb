{
 "cells": [
  {
   "cell_type": "markdown",
   "id": "7396c931-56d6-492e-8409-faa70bf41234",
   "metadata": {},
   "source": [
    "*Ana Başlık*"
   ]
  },
  {
   "cell_type": "markdown",
   "id": "b96e7749-7395-4925-869d-fd4ab4387e2d",
   "metadata": {},
   "source": [
    "**Alt Başlık**"
   ]
  },
  {
   "cell_type": "markdown",
   "id": "196160d6-a320-4468-9482-750fee939ff4",
   "metadata": {},
   "source": [
    "-Yazı tipi-"
   ]
  },
  {
   "cell_type": "markdown",
   "id": "bc5a3449-adab-4833-8a2f-a79142cf80f0",
   "metadata": {},
   "source": [
    "#Sıfırdan array oluşturma"
   ]
  },
  {
   "cell_type": "code",
   "execution_count": 2,
   "id": "abc25522-a996-4d68-ab20-cbf20cbe35b9",
   "metadata": {},
   "outputs": [],
   "source": [
    "import numpy as np"
   ]
  },
  {
   "cell_type": "markdown",
   "id": "9c03b6a5-38c3-4b76-b1be-be734f135928",
   "metadata": {},
   "source": [
    "np kütüphanesinin arrayleri tek bir tip ile çalışır ve bu da verimli veri saklamak demek"
   ]
  },
  {
   "cell_type": "code",
   "execution_count": 4,
   "id": "d0e31b16-f185-4793-9352-c5f9ab09f40a",
   "metadata": {},
   "outputs": [
    {
     "data": {
      "text/plain": [
       "array([0, 0, 0, 0, 0, 0, 0, 0, 0, 0])"
      ]
     },
     "execution_count": 4,
     "metadata": {},
     "output_type": "execute_result"
    }
   ],
   "source": [
    "np.zeros(10, dtype=int) "
   ]
  },
  {
   "cell_type": "code",
   "execution_count": 5,
   "id": "cf9bf6b0-a927-4505-96ac-7208eff261b0",
   "metadata": {},
   "outputs": [
    {
     "data": {
      "text/plain": [
       "array([[1, 1, 1, 1, 1],\n",
       "       [1, 1, 1, 1, 1],\n",
       "       [1, 1, 1, 1, 1]])"
      ]
     },
     "execution_count": 5,
     "metadata": {},
     "output_type": "execute_result"
    }
   ],
   "source": [
    "np.ones((3,5),dtype=int)"
   ]
  },
  {
   "cell_type": "code",
   "execution_count": 6,
   "id": "008ac69a-1b15-41e6-978a-ea56af54ef9a",
   "metadata": {},
   "outputs": [
    {
     "data": {
      "text/plain": [
       "array([[3, 3, 3, 3, 3],\n",
       "       [3, 3, 3, 3, 3],\n",
       "       [3, 3, 3, 3, 3]])"
      ]
     },
     "execution_count": 6,
     "metadata": {},
     "output_type": "execute_result"
    }
   ],
   "source": [
    "np.full((3,5),3)"
   ]
  },
  {
   "cell_type": "code",
   "execution_count": 10,
   "id": "9d42cd9c-2c47-432b-9529-08c166b5bf0a",
   "metadata": {},
   "outputs": [
    {
     "data": {
      "text/plain": [
       "array([ 0,  3,  6,  9, 12, 15, 18, 21, 24, 27, 30])"
      ]
     },
     "execution_count": 10,
     "metadata": {},
     "output_type": "execute_result"
    }
   ],
   "source": [
    "np.arange(0,31,3)"
   ]
  },
  {
   "cell_type": "code",
   "execution_count": 4,
   "id": "16ccf478-2784-45b1-a81a-a5ded71da57e",
   "metadata": {},
   "outputs": [
    {
     "data": {
      "text/plain": [
       "array([0.        , 0.11111111, 0.22222222, 0.33333333, 0.44444444,\n",
       "       0.55555556, 0.66666667, 0.77777778, 0.88888889, 1.        ])"
      ]
     },
     "execution_count": 4,
     "metadata": {},
     "output_type": "execute_result"
    }
   ],
   "source": [
    "np.linspace(0,1,10)"
   ]
  },
  {
   "cell_type": "code",
   "execution_count": 13,
   "id": "a5bc3b3f-3ae3-4161-bc97-965c9e26c3af",
   "metadata": {},
   "outputs": [
    {
     "data": {
      "text/plain": [
       "array([[45.79837822, 33.17956196, 56.25623563],\n",
       "       [59.17372057, 53.83053582, 29.99041901],\n",
       "       [51.55905792, 35.38999555, 56.16174463]])"
      ]
     },
     "execution_count": 13,
     "metadata": {},
     "output_type": "execute_result"
    }
   ],
   "source": [
    "np.random.normal(50,12,(3,3))"
   ]
  },
  {
   "cell_type": "code",
   "execution_count": 23,
   "id": "569489d4-e0d6-4c50-85d1-64b853967193",
   "metadata": {},
   "outputs": [
    {
     "data": {
      "text/plain": [
       "array([[17,  8, 29],\n",
       "       [ 6, 27, 13],\n",
       "       [25, 29,  4]], dtype=int32)"
      ]
     },
     "execution_count": 23,
     "metadata": {},
     "output_type": "execute_result"
    }
   ],
   "source": [
    "np.random.randint(1,30,(3,3))"
   ]
  },
  {
   "cell_type": "markdown",
   "id": "1530240d-404b-44ef-8184-6e529f0d19d5",
   "metadata": {},
   "source": [
    "**Özellikleri**"
   ]
  },
  {
   "cell_type": "markdown",
   "id": "bcb214e6-448c-4ad9-9636-80b7a56f7035",
   "metadata": {},
   "source": [
    "* ndim: boyut sayısı\n",
    "* shape: boyut bilgisi\n",
    "* size : toplam eleman sayısı\n",
    "* dtype : array veri tipi"
   ]
  },
  {
   "cell_type": "code",
   "execution_count": 32,
   "id": "2fe1740f-5dd7-48c0-97df-fcf26bd3d2fe",
   "metadata": {},
   "outputs": [],
   "source": [
    "a = np.random.randint(0,10,3)"
   ]
  },
  {
   "cell_type": "code",
   "execution_count": 28,
   "id": "c8169c24-b791-43b5-bc6b-53639b46965b",
   "metadata": {},
   "outputs": [
    {
     "data": {
      "text/plain": [
       "1"
      ]
     },
     "execution_count": 28,
     "metadata": {},
     "output_type": "execute_result"
    }
   ],
   "source": [
    "a.ndim"
   ]
  },
  {
   "cell_type": "code",
   "execution_count": 29,
   "id": "a3e15cb6-2e0e-4873-8295-74297b8949f5",
   "metadata": {},
   "outputs": [
    {
     "data": {
      "text/plain": [
       "(3,)"
      ]
     },
     "execution_count": 29,
     "metadata": {},
     "output_type": "execute_result"
    }
   ],
   "source": [
    "a.shape"
   ]
  },
  {
   "cell_type": "code",
   "execution_count": 30,
   "id": "495d054c-7531-484f-8f37-1212c478b396",
   "metadata": {},
   "outputs": [
    {
     "data": {
      "text/plain": [
       "3"
      ]
     },
     "execution_count": 30,
     "metadata": {},
     "output_type": "execute_result"
    }
   ],
   "source": [
    "a.size"
   ]
  },
  {
   "cell_type": "code",
   "execution_count": 33,
   "id": "b5717f22-7611-43bb-828d-832634d4b4d3",
   "metadata": {},
   "outputs": [
    {
     "data": {
      "text/plain": [
       "dtype('int32')"
      ]
     },
     "execution_count": 33,
     "metadata": {},
     "output_type": "execute_result"
    }
   ],
   "source": [
    "a.dtype"
   ]
  },
  {
   "cell_type": "code",
   "execution_count": 34,
   "id": "bf2cbaec-3d33-421b-af54-e001891be50d",
   "metadata": {},
   "outputs": [],
   "source": [
    "a = np.random.randint(0,10,(3,3))"
   ]
  },
  {
   "cell_type": "code",
   "execution_count": 35,
   "id": "534571fa-5490-4a91-9e16-0c0d13297af8",
   "metadata": {},
   "outputs": [
    {
     "data": {
      "text/plain": [
       "2"
      ]
     },
     "execution_count": 35,
     "metadata": {},
     "output_type": "execute_result"
    }
   ],
   "source": [
    "a.ndim"
   ]
  },
  {
   "cell_type": "code",
   "execution_count": 36,
   "id": "3224aaf5-6073-4c4a-b783-cfadc829a3c3",
   "metadata": {},
   "outputs": [
    {
     "data": {
      "text/plain": [
       "(3, 3)"
      ]
     },
     "execution_count": 36,
     "metadata": {},
     "output_type": "execute_result"
    }
   ],
   "source": [
    "a.shape"
   ]
  },
  {
   "cell_type": "code",
   "execution_count": 37,
   "id": "600f75bc-5216-4ffc-acd2-5617efb86429",
   "metadata": {},
   "outputs": [
    {
     "data": {
      "text/plain": [
       "9"
      ]
     },
     "execution_count": 37,
     "metadata": {},
     "output_type": "execute_result"
    }
   ],
   "source": [
    "a.size"
   ]
  },
  {
   "cell_type": "code",
   "execution_count": 38,
   "id": "9f85889f-1fe3-46ca-8671-8caa0cbf2d8c",
   "metadata": {},
   "outputs": [
    {
     "data": {
      "text/plain": [
       "dtype('int32')"
      ]
     },
     "execution_count": 38,
     "metadata": {},
     "output_type": "execute_result"
    }
   ],
   "source": [
    "a.dtype"
   ]
  },
  {
   "cell_type": "code",
   "execution_count": 39,
   "id": "b533dda8-e940-43e1-a654-1ccfaf1774f0",
   "metadata": {},
   "outputs": [
    {
     "data": {
      "text/plain": [
       "array([[2, 9, 1],\n",
       "       [4, 6, 6],\n",
       "       [2, 5, 6]], dtype=int32)"
      ]
     },
     "execution_count": 39,
     "metadata": {},
     "output_type": "execute_result"
    }
   ],
   "source": [
    "a"
   ]
  },
  {
   "cell_type": "code",
   "execution_count": 40,
   "id": "e697235e-1643-4b84-a89c-f9830e3fa37d",
   "metadata": {},
   "outputs": [
    {
     "data": {
      "text/plain": [
       "array([2, 9, 1, 4, 6, 6, 2, 5, 6], dtype=int32)"
      ]
     },
     "execution_count": 40,
     "metadata": {},
     "output_type": "execute_result"
    }
   ],
   "source": [
    "a.reshape(9)"
   ]
  },
  {
   "cell_type": "code",
   "execution_count": 41,
   "id": "cfd7b940-e9f5-40c8-b94e-74f44a0b3b3e",
   "metadata": {},
   "outputs": [
    {
     "data": {
      "text/plain": [
       "array([[2, 9, 1, 4, 6, 6, 2, 5, 6]], dtype=int32)"
      ]
     },
     "execution_count": 41,
     "metadata": {},
     "output_type": "execute_result"
    }
   ],
   "source": [
    "a.reshape(1,9)"
   ]
  },
  {
   "cell_type": "code",
   "execution_count": 42,
   "id": "682c0531-a7b5-4b56-a2ed-7f69f963a144",
   "metadata": {},
   "outputs": [
    {
     "data": {
      "text/plain": [
       "array([[2, 9, 1],\n",
       "       [4, 6, 6],\n",
       "       [2, 5, 6]], dtype=int32)"
      ]
     },
     "execution_count": 42,
     "metadata": {},
     "output_type": "execute_result"
    }
   ],
   "source": [
    "a.reshape(3,3)"
   ]
  }
 ],
 "metadata": {
  "kernelspec": {
   "display_name": "Python 3 (ipykernel)",
   "language": "python",
   "name": "python3"
  },
  "language_info": {
   "codemirror_mode": {
    "name": "ipython",
    "version": 3
   },
   "file_extension": ".py",
   "mimetype": "text/x-python",
   "name": "python",
   "nbconvert_exporter": "python",
   "pygments_lexer": "ipython3",
   "version": "3.12.3"
  }
 },
 "nbformat": 4,
 "nbformat_minor": 5
}
